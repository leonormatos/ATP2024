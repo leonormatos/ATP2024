{
 "cells": [
  {
   "cell_type": "markdown",
   "id": "1cf1b437",
   "metadata": {},
   "source": [
    "## TPC3: Jogo dos 21 fósforos\n",
    "\n",
    "Desenvolve em Python o código necessário para o jogo dos 21 fósforos: \n",
    "\n",
    "### O jogo\n",
    "\n",
    "* No início do jogo, há 21 fósforos;\n",
    "* Cada jogador (computador ou utilizador), pode tirar 1, 2, 3 ou 4 fósforos quando for a sua vez de jogar;\n",
    "* Os jogadores jogam alternadamente;\n",
    "* **Quem tirar o último fósforo perde!**\n",
    "\n",
    "### O programa \n",
    "\n",
    "* O jogo deverá ter dois modos: o jogador joga em primeiro lugar e o computador começa a jogar em segundo lugar e, no segundo modo, o computador começa em primeiro; \n",
    "* Quando o computador começa a jogar em segundo lugar, deve ganhar sempre o jogo;\n",
    "* Quando o computador começa a jogar em primeiro lugar, se o utilizador cometer um erro de cálculo, o computador deverá passar para a posição de vencedor e ganhar o jogo."
   ]
  },
  {
   "cell_type": "code",
   "execution_count": null,
   "id": "f8325f55",
   "metadata": {},
   "outputs": [],
   "source": [
    "print(\"Bem-vindo ao Jogo dos 21 Fósforos!\")\n",
    "print(\"Regras: Quem tirar o último fósforo perde.\")\n",
    "print(\"Escolha o modo: 1 - Jogador começa primeiro ou 2 - Computador começa primeiro\")\n",
    "\n",
    "\n",
    "modo = int(input(\"Escolha 1 ou 2: \"))\n",
    "fosforos = 21\n",
    "\n",
    "if modo == 1:\n",
    "    jogador_first = True\n",
    "elif modo == 2:\n",
    "    jogador_first = False\n",
    "else:\n",
    "    print(\"Escolha inválida. O jogo será encerrado.\")\n",
    "    exit()\n",
    "\n",
    "while fosforos > 0:\n",
    "    print(f\"\\nFósforos restantes: {fosforos}\")\n",
    "    \n",
    "    if jogador_first:\n",
    "        jogada = int(input(\"Quantos fósforos queres tirar (1-4)? \"))\n",
    "        if jogada < 1 or jogada > 4 or jogada > fosforos:\n",
    "            print(\"Jogada inválida. Escolhe um número entre 1 e 4, sem ultrapassar os fósforos restantes.\")\n",
    "            continue\n",
    "        fosforos -= jogada\n",
    "        if fosforos == 0:\n",
    "            print(\"Tiraste o último fósforo. Perdeste!\")\n",
    "            break\n",
    "\n",
    "    else:\n",
    "        jogada_computador = 1 if fosforos <= 4 else 2 \n",
    "        print(f\"O computador tirou {jogada_computador} fósforos.\")\n",
    "        fosforos -= jogada_computador\n",
    "        if fosforos == 0:\n",
    "            print(\"O computador tirou o último fósforo. Ganhaste!\")\n",
    "            break\n",
    "\n",
    "    \n",
    "\n"
   ]
  }
 ],
 "metadata": {
  "kernelspec": {
   "display_name": "Python 3",
   "language": "python",
   "name": "python3"
  },
  "language_info": {
   "codemirror_mode": {
    "name": "ipython",
    "version": 3
   },
   "file_extension": ".py",
   "mimetype": "text/x-python",
   "name": "python",
   "nbconvert_exporter": "python",
   "pygments_lexer": "ipython3",
   "version": "3.12.1"
  }
 },
 "nbformat": 4,
 "nbformat_minor": 5
}
