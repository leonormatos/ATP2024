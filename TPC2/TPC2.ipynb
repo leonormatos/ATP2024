{
 "cells": [
  {
   "cell_type": "markdown",
   "id": "81703f1b",
   "metadata": {},
   "source": [
    "### TPC2: Adivinha o número\n",
    "- Crie um programa em Python para jogar o jogo \"Adivinha o número\":\n",
    "    - O jogo pode ter 2 modalidades: computador pensa num número (entre 0 e 100), utilizador tenta adivinhar; ou, o utilizador pensa num número (entre 0 e 100) e o computador tenta adivinhar;\n",
    "    - Quem tenta adivinhar responde com uma das afirmações: \"Acertou\", \"O número que pensei é Maior\" ou \"O número que pensei é Menor\";\n",
    "    - Uma vez descoberto o número o programa deverá terminar imprimindo o número de tentativas que quem adivinhou usou para chegar ao resultado."
   ]
  },
  {
   "cell_type": "code",
   "execution_count": 9,
   "id": "3d982eec",
   "metadata": {},
   "outputs": [
    {
     "name": "stdout",
     "output_type": "stream",
     "text": [
      "Parabéns, adivinhou o número em 7 tentativas!\n"
     ]
    }
   ],
   "source": [
    "modo = int(input(\"Selecione um modo de jogo. Escreva 1 se quer adivinhar o número escolhido por mim ou 2 se quer que eu adivinhe o número em que está a pensar: \"))\n",
    "\n",
    "if modo == 1:\n",
    "    import random\n",
    "    n = random.randrange(0, 100)\n",
    "    tentativas = 1\n",
    "    palpite = int(input(\"Diga a primeira tentativa: \"))\n",
    "    \n",
    "    while n != palpite:\n",
    "        if palpite < n:\n",
    "            palpite = int(input(\"O número é mais alto que esse número. Diga outro número: \"))\n",
    "        elif palpite > n:\n",
    "            palpite = int(input(\"O número é mais baixo que esse número. Diga outro número: \"))\n",
    "        tentativas += 1\n",
    "    \n",
    "    print(f\"Parabéns, adivinhou o número em {tentativas} tentativas!\")\n",
    "\n",
    "else:\n",
    "    import random\n",
    "    mínimo = 0\n",
    "    máximo = 100\n",
    "    print(\"Pense num número entre 0 e 100.\")\n",
    "    \n",
    "    número = random.randint(mínimo, máximo)\n",
    "    print(f\"O meu palpite é: {número}\")\n",
    "    tentativas = 1\n",
    "    resultado = 0\n",
    "    \n",
    "    while resultado != 3:\n",
    "        resultado = int(input(\"Este número é muito elevado (1), muito baixo (2), ou correto (3)? \"))\n",
    "        \n",
    "        if resultado == 2:\n",
    "            mínimo = número + 1\n",
    "        elif resultado == 1:\n",
    "            máximo = número - 1\n",
    "        \n",
    "        if resultado != 3:\n",
    "            número = random.randint(mínimo, máximo)\n",
    "            print(f\"O meu palpite é: {número}\")\n",
    "            tentativas += 1\n",
    "\n",
    "    print(f\"Já está! Acertei em {tentativas} tentativas!\")"
   ]
  }
 ],
 "metadata": {
  "kernelspec": {
   "display_name": "Python 3.9.1 64-bit",
   "language": "python",
   "name": "python3"
  },
  "language_info": {
   "codemirror_mode": {
    "name": "ipython",
    "version": 3
   },
   "file_extension": ".py",
   "mimetype": "text/x-python",
   "name": "python",
   "nbconvert_exporter": "python",
   "pygments_lexer": "ipython3",
   "version": "3.12.1"
  },
  "vscode": {
   "interpreter": {
    "hash": "aee8b7b246df8f9039afb4144a1f6fd8d2ca17a180786b69acc140d282b71a49"
   }
  }
 },
 "nbformat": 4,
 "nbformat_minor": 5
}
